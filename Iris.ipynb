{
  "nbformat": 4,
  "nbformat_minor": 0,
  "metadata": {
    "colab": {
      "name": "Iris.ipynb",
      "provenance": [],
      "collapsed_sections": []
    },
    "kernelspec": {
      "name": "python3",
      "display_name": "Python 3"
    }
  },
  "cells": [
    {
      "cell_type": "markdown",
      "metadata": {
        "id": "8MjMco5ucQZA",
        "colab_type": "text"
      },
      "source": [
        "**Importing Iris Dataset**\n",
        "\n",
        "Importing Iris dataset from sklearn. sklearn is an interactive machine learning package that allows to load basic datasets and many machine learning models\n"
      ]
    },
    {
      "cell_type": "code",
      "metadata": {
        "id": "3YMbFoybcKkV",
        "colab_type": "code",
        "colab": {
          "base_uri": "https://localhost:8080/",
          "height": 127
        },
        "outputId": "02c9c3bb-06ba-444a-c136-88c172338a2a"
      },
      "source": [
        "import pandas as pd\n",
        "from sklearn import datasets\n",
        "iris = datasets.load_iris()\n",
        "\n",
        "#converting iris dataset into a DataFrame\n",
        "df = pd.DataFrame(iris.data, columns = iris.feature_names)\n",
        "\n",
        "print(df.head())"
      ],
      "execution_count": 15,
      "outputs": [
        {
          "output_type": "stream",
          "text": [
            "   sepal length (cm)  sepal width (cm)  petal length (cm)  petal width (cm)\n",
            "0                5.1               3.5                1.4               0.2\n",
            "1                4.9               3.0                1.4               0.2\n",
            "2                4.7               3.2                1.3               0.2\n",
            "3                4.6               3.1                1.5               0.2\n",
            "4                5.0               3.6                1.4               0.2\n"
          ],
          "name": "stdout"
        }
      ]
    },
    {
      "cell_type": "markdown",
      "metadata": {
        "id": "EGvyiC34dRrb",
        "colab_type": "text"
      },
      "source": [
        "**Iris DataFrame inspection**\n",
        "\n",
        "In this section exploratory data analysis will be carried out."
      ]
    },
    {
      "cell_type": "code",
      "metadata": {
        "id": "eYrH8Sy6dlX_",
        "colab_type": "code",
        "colab": {
          "base_uri": "https://localhost:8080/",
          "height": 623
        },
        "outputId": "783485cb-58f3-4335-f086-4eaaad4652b5"
      },
      "source": [
        "#printing iris dataframe object types\n",
        "print(\"**Iris Object types\\n**\",)\n",
        "print(\"\\n\",df.info(),\"\\n\")\n",
        "\n",
        "#iris dataframe columns titles\n",
        "print(\"\\n\",\"**Column titles**\")\n",
        "print(\"\\n\",df.columns,\"\\n\")\n",
        "\n",
        "#iris datframe statistical summary\n",
        "print(\"\\n\",\"**Iris statistical summary**\")\n",
        "print(\"\\n\", df.describe())"
      ],
      "execution_count": 9,
      "outputs": [
        {
          "output_type": "stream",
          "text": [
            "**Iris Object types\n",
            "**\n",
            "<class 'pandas.core.frame.DataFrame'>\n",
            "RangeIndex: 150 entries, 0 to 149\n",
            "Data columns (total 4 columns):\n",
            "sepal length (cm)    150 non-null float64\n",
            "sepal width (cm)     150 non-null float64\n",
            "petal length (cm)    150 non-null float64\n",
            "petal width (cm)     150 non-null float64\n",
            "dtypes: float64(4)\n",
            "memory usage: 4.8 KB\n",
            "\n",
            " None \n",
            "\n",
            "\n",
            " **Column titles**\n",
            "\n",
            " Index(['sepal length (cm)', 'sepal width (cm)', 'petal length (cm)',\n",
            "       'petal width (cm)'],\n",
            "      dtype='object') \n",
            "\n",
            "\n",
            " **Iris statistical summary**\n",
            "\n",
            "        sepal length (cm)  sepal width (cm)  petal length (cm)  petal width (cm)\n",
            "count         150.000000        150.000000         150.000000        150.000000\n",
            "mean            5.843333          3.057333           3.758000          1.199333\n",
            "std             0.828066          0.435866           1.765298          0.762238\n",
            "min             4.300000          2.000000           1.000000          0.100000\n",
            "25%             5.100000          2.800000           1.600000          0.300000\n",
            "50%             5.800000          3.000000           4.350000          1.300000\n",
            "75%             6.400000          3.300000           5.100000          1.800000\n",
            "max             7.900000          4.400000           6.900000          2.500000\n"
          ],
          "name": "stdout"
        }
      ]
    },
    {
      "cell_type": "markdown",
      "metadata": {
        "id": "VuUD3ASXf1hm",
        "colab_type": "text"
      },
      "source": [
        "**Basic preprocessing** : Inspection for missing values"
      ]
    },
    {
      "cell_type": "code",
      "metadata": {
        "id": "WKt5n6Cwf1CS",
        "colab_type": "code",
        "colab": {
          "base_uri": "https://localhost:8080/",
          "height": 35
        },
        "outputId": "d8de623a-d890-4f3a-a2e3-7453f49270ca"
      },
      "source": [
        "#missing values count\n",
        "print(\"There are \"+ str(df.isnull().values.sum())+\" missing values in the Iris Dataframe\")\n",
        "\n",
        "#Hence there are 0 missing values further preprocessing will be carried out on target column customizing "
      ],
      "execution_count": 14,
      "outputs": [
        {
          "output_type": "stream",
          "text": [
            "There are 0 missing values in the Iris Dataframe\n"
          ],
          "name": "stdout"
        }
      ]
    },
    {
      "cell_type": "markdown",
      "metadata": {
        "id": "5O9ukH18hFVW",
        "colab_type": "text"
      },
      "source": [
        "**Basic Preprocessing** : Intialising target variable\n",
        "\n",
        "Hence our target variable is flower name. creating a new column name as 'Flower name'"
      ]
    },
    {
      "cell_type": "code",
      "metadata": {
        "id": "gLJJ4oE-g0h1",
        "colab_type": "code",
        "colab": {
          "base_uri": "https://localhost:8080/",
          "height": 164
        },
        "outputId": "c278a01d-59dc-4700-e5e9-aac47d6e0019"
      },
      "source": [
        "#creating 'target' variable in iris dataframe\n",
        "df['target'] = iris.target\n",
        "\n",
        "#creating 'flower name' variable \n",
        "df['flower_name'] = df.target.apply(lambda x: iris.target_names[x])\n",
        "\n",
        "#inspecting final Iris dataframe\n",
        "print(df.head())"
      ],
      "execution_count": 17,
      "outputs": [
        {
          "output_type": "stream",
          "text": [
            "   sepal length (cm)  sepal width (cm)  ...  target  flower_name\n",
            "0                5.1               3.5  ...       0       setosa\n",
            "1                4.9               3.0  ...       0       setosa\n",
            "2                4.7               3.2  ...       0       setosa\n",
            "3                4.6               3.1  ...       0       setosa\n",
            "4                5.0               3.6  ...       0       setosa\n",
            "\n",
            "[5 rows x 6 columns]\n"
          ],
          "name": "stdout"
        }
      ]
    },
    {
      "cell_type": "markdown",
      "metadata": {
        "id": "LJeocbTHin0h",
        "colab_type": "text"
      },
      "source": [
        "**Initialising dependant variable 'y' and independant variable 'X'**\n",
        "\n",
        "Here the dependant(target) variable is 'flower_name' and rest all variable are independant variables. make sure that target column is removed. "
      ]
    },
    {
      "cell_type": "code",
      "metadata": {
        "id": "cVvkJDPGi0tB",
        "colab_type": "code",
        "colab": {
          "base_uri": "https://localhost:8080/",
          "height": 256
        },
        "outputId": "a51b5e2e-cd3c-4e76-8241-8af71e222fcb"
      },
      "source": [
        "#independant variable initialisation\n",
        "X = df.drop(['target','flower_name'], axis=1)\n",
        "\n",
        "#dependant variable\n",
        "y = df['flower_name']\n",
        "\n",
        "print(X.head())\n",
        "print(\"\\n\", y.head())"
      ],
      "execution_count": 18,
      "outputs": [
        {
          "output_type": "stream",
          "text": [
            "   sepal length (cm)  sepal width (cm)  petal length (cm)  petal width (cm)\n",
            "0                5.1               3.5                1.4               0.2\n",
            "1                4.9               3.0                1.4               0.2\n",
            "2                4.7               3.2                1.3               0.2\n",
            "3                4.6               3.1                1.5               0.2\n",
            "4                5.0               3.6                1.4               0.2\n",
            "\n",
            " 0    setosa\n",
            "1    setosa\n",
            "2    setosa\n",
            "3    setosa\n",
            "4    setosa\n",
            "Name: flower_name, dtype: object\n"
          ],
          "name": "stdout"
        }
      ]
    },
    {
      "cell_type": "markdown",
      "metadata": {
        "id": "bOEIYHAPkBDT",
        "colab_type": "text"
      },
      "source": [
        "**Splitting the data into Training set and Testing set**"
      ]
    },
    {
      "cell_type": "code",
      "metadata": {
        "id": "85ZUv_ycj7IN",
        "colab_type": "code",
        "colab": {}
      },
      "source": [
        "#importing train_test_split from sklearn\n",
        "from sklearn.model_selection import train_test_split\n",
        "\n",
        "X_train,X_test,y_train,y_test = train_test_split(X,y,test_size = 0.33, random_state = 42)"
      ],
      "execution_count": 0,
      "outputs": []
    },
    {
      "cell_type": "markdown",
      "metadata": {
        "id": "yiPF36Dqkmmi",
        "colab_type": "text"
      },
      "source": [
        "**Support Vector Classifier**\n",
        "\n",
        "Support vector classifier is a machine learning classfication algorithms based on support vector machine algorithm"
      ]
    },
    {
      "cell_type": "code",
      "metadata": {
        "id": "h2IK4YT4klR_",
        "colab_type": "code",
        "colab": {
          "base_uri": "https://localhost:8080/",
          "height": 147
        },
        "outputId": "516d59ea-6727-4db6-a1f2-04e83f60df7f"
      },
      "source": [
        "#importing SVC from sklearn\n",
        "from sklearn.svm import SVC\n",
        "model = SVC()\n",
        "\n",
        "#fitting the training data in the model\n",
        "\n",
        "model.fit(X_train,y_train)"
      ],
      "execution_count": 20,
      "outputs": [
        {
          "output_type": "stream",
          "text": [
            "/usr/local/lib/python3.6/dist-packages/sklearn/svm/base.py:193: FutureWarning: The default value of gamma will change from 'auto' to 'scale' in version 0.22 to account better for unscaled features. Set gamma explicitly to 'auto' or 'scale' to avoid this warning.\n",
            "  \"avoid this warning.\", FutureWarning)\n"
          ],
          "name": "stderr"
        },
        {
          "output_type": "execute_result",
          "data": {
            "text/plain": [
              "SVC(C=1.0, cache_size=200, class_weight=None, coef0=0.0,\n",
              "    decision_function_shape='ovr', degree=3, gamma='auto_deprecated',\n",
              "    kernel='rbf', max_iter=-1, probability=False, random_state=None,\n",
              "    shrinking=True, tol=0.001, verbose=False)"
            ]
          },
          "metadata": {
            "tags": []
          },
          "execution_count": 20
        }
      ]
    },
    {
      "cell_type": "markdown",
      "metadata": {
        "id": "hhLC32ramAm8",
        "colab_type": "text"
      },
      "source": [
        "**Evaluation of model preformance**\n",
        "\n",
        "In this section model accuracy will be checked with help of testing data"
      ]
    },
    {
      "cell_type": "code",
      "metadata": {
        "id": "xd45tbmGmIe5",
        "colab_type": "code",
        "colab": {
          "base_uri": "https://localhost:8080/",
          "height": 35
        },
        "outputId": "43d12d82-8ab0-40c2-eb42-523cb4163410"
      },
      "source": [
        "#model.score method for checking accuracy\n",
        "\n",
        "accuracy = model.score(X_test,y_test)\n",
        "print(accuracy)\n",
        "\n",
        "#making prediction with testint data\n",
        "y_pred = model.predict(X_test)\n"
      ],
      "execution_count": 22,
      "outputs": [
        {
          "output_type": "stream",
          "text": [
            "1.0\n"
          ],
          "name": "stdout"
        }
      ]
    },
    {
      "cell_type": "markdown",
      "metadata": {
        "id": "cMCgKUpnnK5L",
        "colab_type": "text"
      },
      "source": [
        "**Potting confusion matrix**"
      ]
    },
    {
      "cell_type": "code",
      "metadata": {
        "id": "euzjV9OknTP1",
        "colab_type": "code",
        "colab": {
          "base_uri": "https://localhost:8080/",
          "height": 72
        },
        "outputId": "42cb8446-7e0e-4238-93cb-72c17f45804a"
      },
      "source": [
        "#importing confusion matrix\n",
        "from sklearn.metrics import confusion_matrix\n",
        "conf_mat = confusion_matrix(y_test,y_pred)\n",
        "\n",
        "print(conf_mat)"
      ],
      "execution_count": 23,
      "outputs": [
        {
          "output_type": "stream",
          "text": [
            "[[19  0  0]\n",
            " [ 0 15  0]\n",
            " [ 0  0 16]]\n"
          ],
          "name": "stdout"
        }
      ]
    },
    {
      "cell_type": "markdown",
      "metadata": {
        "id": "oaFhopg5oC2A",
        "colab_type": "text"
      },
      "source": [
        "**Making a sample prediction**\n",
        "\n",
        "In this section a sample predcition will be made by passing in sepal lenght, sepal width, petal lenght and petal width parameters\n"
      ]
    },
    {
      "cell_type": "code",
      "metadata": {
        "id": "nxGpWtwTn-1F",
        "colab_type": "code",
        "colab": {
          "base_uri": "https://localhost:8080/",
          "height": 35
        },
        "outputId": "0855cb10-3d8e-4cf9-9f24-0bc34770a6fd"
      },
      "source": [
        "model.predict([[1.3,2.2,3.1,2.1]])"
      ],
      "execution_count": 24,
      "outputs": [
        {
          "output_type": "execute_result",
          "data": {
            "text/plain": [
              "array(['virginica'], dtype=object)"
            ]
          },
          "metadata": {
            "tags": []
          },
          "execution_count": 24
        }
      ]
    }
  ]
}